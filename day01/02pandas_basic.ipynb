{
 "cells": [
  {
   "cell_type": "markdown",
   "metadata": {},
   "source": [
    "### pandas 기초 \n",
    "- 데이터 처리 라이브러리\n",
    "\n",
    "#### pandas 설치 \n",
    "```shell\n",
    "%pip install pandas\n",
    "```\n",
    "\n",
    "#### PyArrow 설치\n",
    "- pandas에 새로 추가된 라이브러리\n",
    "```shell\n",
    "%pip install pyarrow\n",
    "```"
   ]
  },
  {
   "cell_type": "code",
   "execution_count": 1,
   "metadata": {},
   "outputs": [
    {
     "name": "stdout",
     "output_type": "stream",
     "text": [
      "Requirement already satisfied: pandas in c:\\dev\\langs\\python311\\lib\\site-packages (2.2.0)\n",
      "Requirement already satisfied: numpy<2,>=1.23.2 in c:\\dev\\langs\\python311\\lib\\site-packages (from pandas) (1.26.3)\n",
      "Requirement already satisfied: python-dateutil>=2.8.2 in c:\\users\\administrator\\appdata\\roaming\\python\\python311\\site-packages (from pandas) (2.8.2)\n",
      "Requirement already satisfied: pytz>=2020.1 in c:\\dev\\langs\\python311\\lib\\site-packages (from pandas) (2024.1)\n",
      "Requirement already satisfied: tzdata>=2022.7 in c:\\dev\\langs\\python311\\lib\\site-packages (from pandas) (2024.1)\n",
      "Requirement already satisfied: six>=1.5 in c:\\users\\administrator\\appdata\\roaming\\python\\python311\\site-packages (from python-dateutil>=2.8.2->pandas) (1.16.0)\n",
      "Note: you may need to restart the kernel to use updated packages.\n"
     ]
    },
    {
     "name": "stderr",
     "output_type": "stream",
     "text": [
      "\n",
      "[notice] A new release of pip is available: 24.0 -> 24.2\n",
      "[notice] To update, run: python.exe -m pip install --upgrade pip\n"
     ]
    }
   ],
   "source": [
    "%pip install pandas"
   ]
  },
  {
   "cell_type": "code",
   "execution_count": 3,
   "metadata": {},
   "outputs": [
    {
     "name": "stdout",
     "output_type": "stream",
     "text": [
      "Collecting pyarrow\n",
      "  Downloading pyarrow-17.0.0-cp311-cp311-win_amd64.whl.metadata (3.4 kB)\n",
      "Requirement already satisfied: numpy>=1.16.6 in c:\\dev\\langs\\python311\\lib\\site-packages (from pyarrow) (1.26.3)\n",
      "Downloading pyarrow-17.0.0-cp311-cp311-win_amd64.whl (25.2 MB)\n",
      "   ---------------------------------------- 0.0/25.2 MB ? eta -:--:--\n",
      "   ---------------------------------------- 0.0/25.2 MB ? eta -:--:--\n",
      "   ---------------------------------------- 0.1/25.2 MB 1.1 MB/s eta 0:00:24\n",
      "    --------------------------------------- 0.3/25.2 MB 3.4 MB/s eta 0:00:08\n",
      "   - -------------------------------------- 0.7/25.2 MB 5.1 MB/s eta 0:00:05\n",
      "   - -------------------------------------- 1.2/25.2 MB 6.3 MB/s eta 0:00:04\n",
      "   -- ------------------------------------- 1.6/25.2 MB 7.3 MB/s eta 0:00:04\n",
      "   --- ------------------------------------ 2.1/25.2 MB 8.0 MB/s eta 0:00:03\n",
      "   ---- ----------------------------------- 2.7/25.2 MB 8.5 MB/s eta 0:00:03\n",
      "   ---- ----------------------------------- 3.1/25.2 MB 8.7 MB/s eta 0:00:03\n",
      "   ----- ---------------------------------- 3.7/25.2 MB 9.2 MB/s eta 0:00:03\n",
      "   ------ --------------------------------- 4.2/25.2 MB 9.3 MB/s eta 0:00:03\n",
      "   ------- -------------------------------- 4.7/25.2 MB 9.5 MB/s eta 0:00:03\n",
      "   -------- ------------------------------- 5.3/25.2 MB 9.6 MB/s eta 0:00:03\n",
      "   --------- ------------------------------ 5.8/25.2 MB 9.8 MB/s eta 0:00:02\n",
      "   ---------- ----------------------------- 6.4/25.2 MB 9.9 MB/s eta 0:00:02\n",
      "   ---------- ----------------------------- 6.9/25.2 MB 10.0 MB/s eta 0:00:02\n",
      "   ----------- ---------------------------- 7.4/25.2 MB 10.0 MB/s eta 0:00:02\n",
      "   ------------ --------------------------- 7.8/25.2 MB 10.0 MB/s eta 0:00:02\n",
      "   ------------ --------------------------- 8.0/25.2 MB 9.9 MB/s eta 0:00:02\n",
      "   ------------- -------------------------- 8.5/25.2 MB 9.7 MB/s eta 0:00:02\n",
      "   -------------- ------------------------- 8.9/25.2 MB 9.6 MB/s eta 0:00:02\n",
      "   -------------- ------------------------- 9.3/25.2 MB 9.5 MB/s eta 0:00:02\n",
      "   --------------- ------------------------ 9.8/25.2 MB 9.6 MB/s eta 0:00:02\n",
      "   ---------------- ----------------------- 10.3/25.2 MB 10.2 MB/s eta 0:00:02\n",
      "   ----------------- ---------------------- 10.9/25.2 MB 10.4 MB/s eta 0:00:02\n",
      "   ------------------ --------------------- 11.3/25.2 MB 10.6 MB/s eta 0:00:02\n",
      "   ------------------ --------------------- 11.9/25.2 MB 10.4 MB/s eta 0:00:02\n",
      "   ------------------- -------------------- 12.4/25.2 MB 10.6 MB/s eta 0:00:02\n",
      "   -------------------- ------------------- 13.0/25.2 MB 10.6 MB/s eta 0:00:02\n",
      "   --------------------- ------------------ 13.5/25.2 MB 10.6 MB/s eta 0:00:02\n",
      "   ---------------------- ----------------- 14.1/25.2 MB 10.6 MB/s eta 0:00:02\n",
      "   ----------------------- ---------------- 14.6/25.2 MB 10.6 MB/s eta 0:00:01\n",
      "   ------------------------ --------------- 15.2/25.2 MB 10.7 MB/s eta 0:00:01\n",
      "   ------------------------- -------------- 15.7/25.2 MB 10.7 MB/s eta 0:00:01\n",
      "   ------------------------- -------------- 16.3/25.2 MB 10.7 MB/s eta 0:00:01\n",
      "   -------------------------- ------------- 16.8/25.2 MB 10.7 MB/s eta 0:00:01\n",
      "   --------------------------- ------------ 17.4/25.2 MB 10.7 MB/s eta 0:00:01\n",
      "   ---------------------------- ----------- 18.0/25.2 MB 10.9 MB/s eta 0:00:01\n",
      "   ----------------------------- ---------- 18.5/25.2 MB 11.3 MB/s eta 0:00:01\n",
      "   ------------------------------ --------- 19.1/25.2 MB 11.5 MB/s eta 0:00:01\n",
      "   ------------------------------- -------- 19.5/25.2 MB 11.7 MB/s eta 0:00:01\n",
      "   ------------------------------- -------- 20.0/25.2 MB 11.7 MB/s eta 0:00:01\n",
      "   -------------------------------- ------- 20.6/25.2 MB 11.7 MB/s eta 0:00:01\n",
      "   --------------------------------- ------ 21.0/25.2 MB 11.7 MB/s eta 0:00:01\n",
      "   --------------------------------- ------ 21.0/25.2 MB 11.7 MB/s eta 0:00:01\n",
      "   --------------------------------- ------ 21.0/25.2 MB 11.7 MB/s eta 0:00:01\n",
      "   --------------------------------- ------ 21.1/25.2 MB 10.1 MB/s eta 0:00:01\n",
      "   ---------------------------------- ----- 21.6/25.2 MB 9.9 MB/s eta 0:00:01\n",
      "   ----------------------------------- ---- 22.2/25.2 MB 9.9 MB/s eta 0:00:01\n",
      "   ------------------------------------ --- 22.8/25.2 MB 10.1 MB/s eta 0:00:01\n",
      "   ------------------------------------ --- 23.1/25.2 MB 9.9 MB/s eta 0:00:01\n",
      "   ------------------------------------ --- 23.1/25.2 MB 9.9 MB/s eta 0:00:01\n",
      "   ------------------------------------- -- 23.6/25.2 MB 9.4 MB/s eta 0:00:01\n",
      "   -------------------------------------- - 24.2/25.2 MB 9.4 MB/s eta 0:00:01\n",
      "   ---------------------------------------  24.7/25.2 MB 9.4 MB/s eta 0:00:01\n",
      "   ---------------------------------------  25.1/25.2 MB 9.5 MB/s eta 0:00:01\n",
      "   ---------------------------------------  25.1/25.2 MB 9.5 MB/s eta 0:00:01\n",
      "   ---------------------------------------- 25.2/25.2 MB 8.7 MB/s eta 0:00:00\n",
      "Installing collected packages: pyarrow\n",
      "Successfully installed pyarrow-17.0.0\n",
      "Note: you may need to restart the kernel to use updated packages.\n"
     ]
    },
    {
     "name": "stderr",
     "output_type": "stream",
     "text": [
      "\n",
      "[notice] A new release of pip is available: 24.0 -> 24.2\n",
      "[notice] To update, run: python.exe -m pip install --upgrade pip\n"
     ]
    }
   ],
   "source": [
    "%pip install pyarrow"
   ]
  },
  {
   "cell_type": "code",
   "execution_count": 4,
   "metadata": {},
   "outputs": [],
   "source": [
    "import pandas as pd"
   ]
  },
  {
   "cell_type": "markdown",
   "metadata": {},
   "source": [
    "#### pandas 기본\n",
    "- 시리즈, 데이터 프레임 개념 이해\n",
    "- 시리즈는 1차원 배열, 프레임은 2차원 배열 \n",
    "- pandas에서는 데이터프레임이 가장 기본 -> 데이터 처리 도중에 잘라서 시리즈를 사용함 \n",
    "\n",
    "<img src=\"https://raw.githubusercontent.com/hugoMGSung/bigdata-analysis-2024/main/images/ba001.png\" width=\"700\">"
   ]
  },
  {
   "cell_type": "code",
   "execution_count": 15,
   "metadata": {},
   "outputs": [
    {
     "data": {
      "text/plain": [
       "({'이름': ['hyeily', 'orion', 'nabi'],\n",
       "  '나이': [27, 22, 13],\n",
       "  '차량여부': [False, True, False]},\n",
       " dict)"
      ]
     },
     "execution_count": 15,
     "metadata": {},
     "output_type": "execute_result"
    }
   ],
   "source": [
    "# 데이터프레임 객체 - 2차원 배열\n",
    "## dictionary로 DataFrame 생성 \n",
    "\n",
    "origin = {'이름':['hyeily', 'orion', 'nabi'], '나이':[27,22,13], '차량여부' : [False, True, False]}\n",
    "origin, type(origin) "
   ]
  },
  {
   "cell_type": "code",
   "execution_count": 16,
   "metadata": {},
   "outputs": [
    {
     "data": {
      "text/html": [
       "<div>\n",
       "<style scoped>\n",
       "    .dataframe tbody tr th:only-of-type {\n",
       "        vertical-align: middle;\n",
       "    }\n",
       "\n",
       "    .dataframe tbody tr th {\n",
       "        vertical-align: top;\n",
       "    }\n",
       "\n",
       "    .dataframe thead th {\n",
       "        text-align: right;\n",
       "    }\n",
       "</style>\n",
       "<table border=\"1\" class=\"dataframe\">\n",
       "  <thead>\n",
       "    <tr style=\"text-align: right;\">\n",
       "      <th></th>\n",
       "      <th>이름</th>\n",
       "      <th>나이</th>\n",
       "      <th>차량여부</th>\n",
       "    </tr>\n",
       "  </thead>\n",
       "  <tbody>\n",
       "    <tr>\n",
       "      <th>0</th>\n",
       "      <td>hyeily</td>\n",
       "      <td>27</td>\n",
       "      <td>False</td>\n",
       "    </tr>\n",
       "    <tr>\n",
       "      <th>1</th>\n",
       "      <td>orion</td>\n",
       "      <td>22</td>\n",
       "      <td>True</td>\n",
       "    </tr>\n",
       "    <tr>\n",
       "      <th>2</th>\n",
       "      <td>nabi</td>\n",
       "      <td>13</td>\n",
       "      <td>False</td>\n",
       "    </tr>\n",
       "  </tbody>\n",
       "</table>\n",
       "</div>"
      ],
      "text/plain": [
       "       이름  나이   차량여부\n",
       "0  hyeily  27  False\n",
       "1   orion  22   True\n",
       "2    nabi  13  False"
      ]
     },
     "execution_count": 16,
     "metadata": {},
     "output_type": "execute_result"
    }
   ],
   "source": [
    "## 1. 딕셔너리로 데이터 프레임 생성, 변수명을 보통 df로 사용 \n",
    "df = pd.DataFrame(data=origin)\n",
    "df"
   ]
  },
  {
   "cell_type": "code",
   "execution_count": 17,
   "metadata": {},
   "outputs": [
    {
     "data": {
      "text/plain": [
       "pandas.core.frame.DataFrame"
      ]
     },
     "execution_count": 17,
     "metadata": {},
     "output_type": "execute_result"
    }
   ],
   "source": [
    "type(df)\n",
    "# 출력 = pandas.core.frame.DataFrame 데이터 프레임 타입!"
   ]
  },
  {
   "cell_type": "code",
   "execution_count": 18,
   "metadata": {},
   "outputs": [
    {
     "data": {
      "text/html": [
       "<div>\n",
       "<style scoped>\n",
       "    .dataframe tbody tr th:only-of-type {\n",
       "        vertical-align: middle;\n",
       "    }\n",
       "\n",
       "    .dataframe tbody tr th {\n",
       "        vertical-align: top;\n",
       "    }\n",
       "\n",
       "    .dataframe thead th {\n",
       "        text-align: right;\n",
       "    }\n",
       "</style>\n",
       "<table border=\"1\" class=\"dataframe\">\n",
       "  <thead>\n",
       "    <tr style=\"text-align: right;\">\n",
       "      <th></th>\n",
       "      <th>0</th>\n",
       "      <th>1</th>\n",
       "      <th>2</th>\n",
       "      <th>3</th>\n",
       "    </tr>\n",
       "  </thead>\n",
       "  <tbody>\n",
       "    <tr>\n",
       "      <th>0</th>\n",
       "      <td>hyeily</td>\n",
       "      <td>27</td>\n",
       "      <td>부산</td>\n",
       "      <td>False</td>\n",
       "    </tr>\n",
       "    <tr>\n",
       "      <th>1</th>\n",
       "      <td>orion</td>\n",
       "      <td>22</td>\n",
       "      <td>서울</td>\n",
       "      <td>True</td>\n",
       "    </tr>\n",
       "    <tr>\n",
       "      <th>2</th>\n",
       "      <td>nabi</td>\n",
       "      <td>22</td>\n",
       "      <td>울산</td>\n",
       "      <td>False</td>\n",
       "    </tr>\n",
       "    <tr>\n",
       "      <th>3</th>\n",
       "      <td>sora</td>\n",
       "      <td>22</td>\n",
       "      <td>통영</td>\n",
       "      <td>False</td>\n",
       "    </tr>\n",
       "  </tbody>\n",
       "</table>\n",
       "</div>"
      ],
      "text/plain": [
       "        0   1   2      3\n",
       "0  hyeily  27  부산  False\n",
       "1   orion  22  서울   True\n",
       "2    nabi  22  울산  False\n",
       "3    sora  22  통영  False"
      ]
     },
     "execution_count": 18,
     "metadata": {},
     "output_type": "execute_result"
    }
   ],
   "source": [
    "## pytion list로 데이터 프레임 생성 \n",
    "data = [['hyeily', 27, '부산', False],\n",
    "        ['orion', 22, '서울', True],\n",
    "        ['nabi', 22, '울산', False],\n",
    "        ['sora', 22, '통영', False]]\n",
    "\n",
    "df2 = pd.DataFrame(data=data)\n",
    "df2"
   ]
  },
  {
   "cell_type": "code",
   "execution_count": 19,
   "metadata": {},
   "outputs": [
    {
     "data": {
      "text/html": [
       "<div>\n",
       "<style scoped>\n",
       "    .dataframe tbody tr th:only-of-type {\n",
       "        vertical-align: middle;\n",
       "    }\n",
       "\n",
       "    .dataframe tbody tr th {\n",
       "        vertical-align: top;\n",
       "    }\n",
       "\n",
       "    .dataframe thead th {\n",
       "        text-align: right;\n",
       "    }\n",
       "</style>\n",
       "<table border=\"1\" class=\"dataframe\">\n",
       "  <thead>\n",
       "    <tr style=\"text-align: right;\">\n",
       "      <th></th>\n",
       "      <th>이름</th>\n",
       "      <th>나이</th>\n",
       "      <th>주소</th>\n",
       "      <th>차량여부</th>\n",
       "    </tr>\n",
       "  </thead>\n",
       "  <tbody>\n",
       "    <tr>\n",
       "      <th>0</th>\n",
       "      <td>hyeily</td>\n",
       "      <td>27</td>\n",
       "      <td>부산</td>\n",
       "      <td>False</td>\n",
       "    </tr>\n",
       "    <tr>\n",
       "      <th>1</th>\n",
       "      <td>orion</td>\n",
       "      <td>22</td>\n",
       "      <td>서울</td>\n",
       "      <td>True</td>\n",
       "    </tr>\n",
       "    <tr>\n",
       "      <th>2</th>\n",
       "      <td>nabi</td>\n",
       "      <td>22</td>\n",
       "      <td>울산</td>\n",
       "      <td>False</td>\n",
       "    </tr>\n",
       "    <tr>\n",
       "      <th>3</th>\n",
       "      <td>sora</td>\n",
       "      <td>22</td>\n",
       "      <td>통영</td>\n",
       "      <td>False</td>\n",
       "    </tr>\n",
       "  </tbody>\n",
       "</table>\n",
       "</div>"
      ],
      "text/plain": [
       "       이름  나이  주소   차량여부\n",
       "0  hyeily  27  부산  False\n",
       "1   orion  22  서울   True\n",
       "2    nabi  22  울산  False\n",
       "3    sora  22  통영  False"
      ]
     },
     "execution_count": 19,
     "metadata": {},
     "output_type": "execute_result"
    }
   ],
   "source": [
    "## 리스트로 df를 만들면 컬럼 제목이 없기 때문에 추가 해줘야 함 \n",
    "df2 = pd.DataFrame(data=data, columns=['이름', '나이','주소', '차량여부'])\n",
    "df2"
   ]
  },
  {
   "cell_type": "code",
   "execution_count": 20,
   "metadata": {},
   "outputs": [
    {
     "data": {
      "text/plain": [
       "0    1\n",
       "1    2\n",
       "2    3\n",
       "3    4\n",
       "dtype: int64"
      ]
     },
     "execution_count": 20,
     "metadata": {},
     "output_type": "execute_result"
    }
   ],
   "source": [
    "## 시리즈 생성\n",
    "sr1 = pd.Series([1,2,3,4])\n",
    "sr1"
   ]
  },
  {
   "cell_type": "code",
   "execution_count": 21,
   "metadata": {},
   "outputs": [
    {
     "data": {
      "text/plain": [
       "pandas.core.series.Series"
      ]
     },
     "execution_count": 21,
     "metadata": {},
     "output_type": "execute_result"
    }
   ],
   "source": [
    "## 시리즈 타입 확인\n",
    "type(sr1)"
   ]
  },
  {
   "cell_type": "code",
   "execution_count": 24,
   "metadata": {},
   "outputs": [
    {
     "data": {
      "text/plain": [
       "0    hyeily\n",
       "1     orion\n",
       "2      nabi\n",
       "3      sora\n",
       "Name: 이름, dtype: object"
      ]
     },
     "execution_count": 24,
     "metadata": {},
     "output_type": "execute_result"
    }
   ],
   "source": [
    "df2['이름']"
   ]
  },
  {
   "cell_type": "code",
   "execution_count": 23,
   "metadata": {},
   "outputs": [
    {
     "data": {
      "text/plain": [
       "pandas.core.series.Series"
      ]
     },
     "execution_count": 23,
     "metadata": {},
     "output_type": "execute_result"
    }
   ],
   "source": [
    "type(df2['이름'])"
   ]
  },
  {
   "cell_type": "code",
   "execution_count": 25,
   "metadata": {},
   "outputs": [
    {
     "data": {
      "text/html": [
       "<div>\n",
       "<style scoped>\n",
       "    .dataframe tbody tr th:only-of-type {\n",
       "        vertical-align: middle;\n",
       "    }\n",
       "\n",
       "    .dataframe tbody tr th {\n",
       "        vertical-align: top;\n",
       "    }\n",
       "\n",
       "    .dataframe thead th {\n",
       "        text-align: right;\n",
       "    }\n",
       "</style>\n",
       "<table border=\"1\" class=\"dataframe\">\n",
       "  <thead>\n",
       "    <tr style=\"text-align: right;\">\n",
       "      <th></th>\n",
       "      <th>이름</th>\n",
       "      <th>나이</th>\n",
       "    </tr>\n",
       "  </thead>\n",
       "  <tbody>\n",
       "    <tr>\n",
       "      <th>0</th>\n",
       "      <td>hyeily</td>\n",
       "      <td>27</td>\n",
       "    </tr>\n",
       "    <tr>\n",
       "      <th>1</th>\n",
       "      <td>orion</td>\n",
       "      <td>22</td>\n",
       "    </tr>\n",
       "    <tr>\n",
       "      <th>2</th>\n",
       "      <td>nabi</td>\n",
       "      <td>22</td>\n",
       "    </tr>\n",
       "    <tr>\n",
       "      <th>3</th>\n",
       "      <td>sora</td>\n",
       "      <td>22</td>\n",
       "    </tr>\n",
       "  </tbody>\n",
       "</table>\n",
       "</div>"
      ],
      "text/plain": [
       "       이름  나이\n",
       "0  hyeily  27\n",
       "1   orion  22\n",
       "2    nabi  22\n",
       "3    sora  22"
      ]
     },
     "execution_count": 25,
     "metadata": {},
     "output_type": "execute_result"
    }
   ],
   "source": [
    "## df에서 두개의 열을 인덱싱\n",
    "df2[['이름', '나이']]"
   ]
  },
  {
   "cell_type": "markdown",
   "metadata": {},
   "source": [
    "- 판다스 자료형\n",
    "    - Boolen \n",
    "    - Int8 ~ 64\n",
    "    - Uint8 ~ 64\n",
    "    - Float32, Float64\n",
    "    - DateTime\n",
    "    - Object\n",
    "    - Categorical \n"
   ]
  },
  {
   "cell_type": "markdown",
   "metadata": {},
   "source": [
    "- DataFrame 조작하는 방법은 빅데이터 분석할 때 실습으로 대체!! "
   ]
  },
  {
   "cell_type": "markdown",
   "metadata": {},
   "source": [
    "##### 데이터프레임 사용하기(CSV, Excel...)\n",
    "- 엑셀 라이브러리 필요! => openpyxl 설치 \n",
    "```shell\n",
    "%pip install openpyxl\n",
    "```"
   ]
  },
  {
   "cell_type": "code",
   "execution_count": 26,
   "metadata": {},
   "outputs": [
    {
     "name": "stdout",
     "output_type": "stream",
     "text": [
      "Note: you may need to restart the kernel to use updated packages.Collecting openpyxl\n",
      "  Downloading openpyxl-3.1.5-py2.py3-none-any.whl.metadata (2.5 kB)\n",
      "Collecting et-xmlfile (from openpyxl)\n",
      "  Downloading et_xmlfile-1.1.0-py3-none-any.whl.metadata (1.8 kB)\n",
      "Downloading openpyxl-3.1.5-py2.py3-none-any.whl (250 kB)\n",
      "   ---------------------------------------- 0.0/250.9 kB ? eta -:--:--\n",
      "   - -------------------------------------- 10.2/250.9 kB ? eta -:--:--\n",
      "   -------------- ------------------------- 92.2/250.9 kB 1.7 MB/s eta 0:00:01\n",
      "   ---------------------------------------- 250.9/250.9 kB 3.1 MB/s eta 0:00:00\n",
      "Downloading et_xmlfile-1.1.0-py3-none-any.whl (4.7 kB)\n",
      "Installing collected packages: et-xmlfile, openpyxl\n",
      "Successfully installed et-xmlfile-1.1.0 openpyxl-3.1.5\n",
      "\n"
     ]
    },
    {
     "name": "stderr",
     "output_type": "stream",
     "text": [
      "\n",
      "[notice] A new release of pip is available: 24.0 -> 24.2\n",
      "[notice] To update, run: python.exe -m pip install --upgrade pip\n"
     ]
    }
   ],
   "source": [
    "%pip install openpyxl"
   ]
  },
  {
   "cell_type": "code",
   "execution_count": 29,
   "metadata": {},
   "outputs": [
    {
     "data": {
      "text/html": [
       "<div>\n",
       "<style scoped>\n",
       "    .dataframe tbody tr th:only-of-type {\n",
       "        vertical-align: middle;\n",
       "    }\n",
       "\n",
       "    .dataframe tbody tr th {\n",
       "        vertical-align: top;\n",
       "    }\n",
       "\n",
       "    .dataframe thead th {\n",
       "        text-align: right;\n",
       "    }\n",
       "</style>\n",
       "<table border=\"1\" class=\"dataframe\">\n",
       "  <thead>\n",
       "    <tr style=\"text-align: right;\">\n",
       "      <th></th>\n",
       "      <th>2019년 11월 입국객 수</th>\n",
       "      <th>Unnamed: 1</th>\n",
       "      <th>Unnamed: 2</th>\n",
       "      <th>Unnamed: 3</th>\n",
       "    </tr>\n",
       "  </thead>\n",
       "  <tbody>\n",
       "    <tr>\n",
       "      <th>0</th>\n",
       "      <td>국적코드</td>\n",
       "      <td>성별</td>\n",
       "      <td>입국객수</td>\n",
       "      <td>전년동기</td>\n",
       "    </tr>\n",
       "    <tr>\n",
       "      <th>1</th>\n",
       "      <td>A01</td>\n",
       "      <td>남성</td>\n",
       "      <td>106320</td>\n",
       "      <td>85815</td>\n",
       "    </tr>\n",
       "    <tr>\n",
       "      <th>2</th>\n",
       "      <td>A01</td>\n",
       "      <td>여성</td>\n",
       "      <td>191436</td>\n",
       "      <td>125241</td>\n",
       "    </tr>\n",
       "    <tr>\n",
       "      <th>3</th>\n",
       "      <td>A31</td>\n",
       "      <td>남성</td>\n",
       "      <td>319</td>\n",
       "      <td>299</td>\n",
       "    </tr>\n",
       "    <tr>\n",
       "      <th>4</th>\n",
       "      <td>A31</td>\n",
       "      <td>여성</td>\n",
       "      <td>42</td>\n",
       "      <td>54</td>\n",
       "    </tr>\n",
       "    <tr>\n",
       "      <th>5</th>\n",
       "      <td>A18</td>\n",
       "      <td>남성</td>\n",
       "      <td>158912</td>\n",
       "      <td>124486</td>\n",
       "    </tr>\n",
       "    <tr>\n",
       "      <th>6</th>\n",
       "      <td>A18</td>\n",
       "      <td>여성</td>\n",
       "      <td>232943</td>\n",
       "      <td>163466</td>\n",
       "    </tr>\n",
       "    <tr>\n",
       "      <th>7</th>\n",
       "      <td>총 합계</td>\n",
       "      <td>689972</td>\n",
       "      <td>NaN</td>\n",
       "      <td>NaN</td>\n",
       "    </tr>\n",
       "    <tr>\n",
       "      <th>8</th>\n",
       "      <td>전년동기</td>\n",
       "      <td>499361</td>\n",
       "      <td>NaN</td>\n",
       "      <td>NaN</td>\n",
       "    </tr>\n",
       "  </tbody>\n",
       "</table>\n",
       "</div>"
      ],
      "text/plain": [
       "  2019년 11월 입국객 수 Unnamed: 1 Unnamed: 2 Unnamed: 3\n",
       "0            국적코드         성별       입국객수       전년동기\n",
       "1             A01         남성     106320      85815\n",
       "2             A01         여성     191436     125241\n",
       "3             A31         남성        319        299\n",
       "4             A31         여성         42         54\n",
       "5             A18         남성     158912     124486\n",
       "6             A18         여성     232943     163466\n",
       "7           총 합계      689972        NaN        NaN\n",
       "8            전년동기     499361        NaN        NaN"
      ]
     },
     "execution_count": 29,
     "metadata": {},
     "output_type": "execute_result"
    }
   ],
   "source": [
    "# csv 파일을 읽어오기 \n",
    "# csv 파일 열면 Rainbow CSV 확장 설치하기\n",
    "\n",
    "df_csv = pd.read_csv('./data/sample_1.csv')\n",
    "df_csv"
   ]
  },
  {
   "cell_type": "code",
   "execution_count": 33,
   "metadata": {},
   "outputs": [
    {
     "data": {
      "text/html": [
       "<div>\n",
       "<style scoped>\n",
       "    .dataframe tbody tr th:only-of-type {\n",
       "        vertical-align: middle;\n",
       "    }\n",
       "\n",
       "    .dataframe tbody tr th {\n",
       "        vertical-align: top;\n",
       "    }\n",
       "\n",
       "    .dataframe thead th {\n",
       "        text-align: right;\n",
       "    }\n",
       "</style>\n",
       "<table border=\"1\" class=\"dataframe\">\n",
       "  <thead>\n",
       "    <tr style=\"text-align: right;\">\n",
       "      <th></th>\n",
       "      <th>국적코드</th>\n",
       "      <th>성별</th>\n",
       "      <th>입국객수</th>\n",
       "      <th>전년동기</th>\n",
       "    </tr>\n",
       "  </thead>\n",
       "  <tbody>\n",
       "    <tr>\n",
       "      <th>0</th>\n",
       "      <td>A01</td>\n",
       "      <td>남성</td>\n",
       "      <td>106320</td>\n",
       "      <td>85815</td>\n",
       "    </tr>\n",
       "    <tr>\n",
       "      <th>1</th>\n",
       "      <td>A01</td>\n",
       "      <td>여성</td>\n",
       "      <td>191436</td>\n",
       "      <td>125241</td>\n",
       "    </tr>\n",
       "    <tr>\n",
       "      <th>2</th>\n",
       "      <td>A31</td>\n",
       "      <td>남성</td>\n",
       "      <td>319</td>\n",
       "      <td>299</td>\n",
       "    </tr>\n",
       "    <tr>\n",
       "      <th>3</th>\n",
       "      <td>A31</td>\n",
       "      <td>여성</td>\n",
       "      <td>42</td>\n",
       "      <td>54</td>\n",
       "    </tr>\n",
       "    <tr>\n",
       "      <th>4</th>\n",
       "      <td>A18</td>\n",
       "      <td>남성</td>\n",
       "      <td>158912</td>\n",
       "      <td>124486</td>\n",
       "    </tr>\n",
       "    <tr>\n",
       "      <th>5</th>\n",
       "      <td>A18</td>\n",
       "      <td>여성</td>\n",
       "      <td>232943</td>\n",
       "      <td>163466</td>\n",
       "    </tr>\n",
       "  </tbody>\n",
       "</table>\n",
       "</div>"
      ],
      "text/plain": [
       "  국적코드  성별    입국객수    전년동기\n",
       "0  A01  남성  106320   85815\n",
       "1  A01  여성  191436  125241\n",
       "2  A31  남성     319     299\n",
       "3  A31  여성      42      54\n",
       "4  A18  남성  158912  124486\n",
       "5  A18  여성  232943  163466"
      ]
     },
     "execution_count": 33,
     "metadata": {},
     "output_type": "execute_result"
    }
   ],
   "source": [
    "# 헤더 조정 \n",
    "df_csv = pd.read_csv('./data/sample_1.csv', header=1, skipfooter=2, engine='python', encoding='utf-8')\n",
    "df_csv"
   ]
  },
  {
   "cell_type": "code",
   "execution_count": 34,
   "metadata": {},
   "outputs": [],
   "source": [
    "# csv 파일로 저장 \n",
    "df_csv.to_csv('./data/sample_2.csv')"
   ]
  },
  {
   "cell_type": "code",
   "execution_count": 35,
   "metadata": {},
   "outputs": [],
   "source": [
    "# excel 파일로 저장\n",
    "df_csv.to_excel('./data/sample_2.xlsx')"
   ]
  },
  {
   "cell_type": "code",
   "execution_count": 39,
   "metadata": {},
   "outputs": [
    {
     "data": {
      "text/html": [
       "<div>\n",
       "<style scoped>\n",
       "    .dataframe tbody tr th:only-of-type {\n",
       "        vertical-align: middle;\n",
       "    }\n",
       "\n",
       "    .dataframe tbody tr th {\n",
       "        vertical-align: top;\n",
       "    }\n",
       "\n",
       "    .dataframe thead th {\n",
       "        text-align: right;\n",
       "    }\n",
       "</style>\n",
       "<table border=\"1\" class=\"dataframe\">\n",
       "  <thead>\n",
       "    <tr style=\"text-align: right;\">\n",
       "      <th></th>\n",
       "      <th>국적코드</th>\n",
       "      <th>성별</th>\n",
       "      <th>입국객수</th>\n",
       "      <th>전년동기</th>\n",
       "    </tr>\n",
       "  </thead>\n",
       "  <tbody>\n",
       "    <tr>\n",
       "      <th>0</th>\n",
       "      <td>A01</td>\n",
       "      <td>남성</td>\n",
       "      <td>106320</td>\n",
       "      <td>85815</td>\n",
       "    </tr>\n",
       "    <tr>\n",
       "      <th>1</th>\n",
       "      <td>A01</td>\n",
       "      <td>여성</td>\n",
       "      <td>191436</td>\n",
       "      <td>125241</td>\n",
       "    </tr>\n",
       "    <tr>\n",
       "      <th>2</th>\n",
       "      <td>A31</td>\n",
       "      <td>남성</td>\n",
       "      <td>319</td>\n",
       "      <td>299</td>\n",
       "    </tr>\n",
       "    <tr>\n",
       "      <th>3</th>\n",
       "      <td>A31</td>\n",
       "      <td>여성</td>\n",
       "      <td>42</td>\n",
       "      <td>54</td>\n",
       "    </tr>\n",
       "    <tr>\n",
       "      <th>4</th>\n",
       "      <td>A18</td>\n",
       "      <td>남성</td>\n",
       "      <td>158912</td>\n",
       "      <td>124486</td>\n",
       "    </tr>\n",
       "    <tr>\n",
       "      <th>5</th>\n",
       "      <td>A18</td>\n",
       "      <td>여성</td>\n",
       "      <td>232943</td>\n",
       "      <td>163466</td>\n",
       "    </tr>\n",
       "  </tbody>\n",
       "</table>\n",
       "</div>"
      ],
      "text/plain": [
       "  국적코드  성별    입국객수    전년동기\n",
       "0  A01  남성  106320   85815\n",
       "1  A01  여성  191436  125241\n",
       "2  A31  남성     319     299\n",
       "3  A31  여성      42      54\n",
       "4  A18  남성  158912  124486\n",
       "5  A18  여성  232943  163466"
      ]
     },
     "execution_count": 39,
     "metadata": {},
     "output_type": "execute_result"
    }
   ],
   "source": [
    "# excel 파일 읽기 (혹시 엑셀글자가 바뀌면 encoding='utf-8', 'euc-kr'로 바꿔서 실행 )\n",
    "df_excel = pd.read_excel('./data/sample_1.xlsx' , header=1, skipfooter=2)\n",
    "df_excel"
   ]
  },
  {
   "cell_type": "code",
   "execution_count": 42,
   "metadata": {},
   "outputs": [
    {
     "data": {
      "text/html": [
       "<div>\n",
       "<style scoped>\n",
       "    .dataframe tbody tr th:only-of-type {\n",
       "        vertical-align: middle;\n",
       "    }\n",
       "\n",
       "    .dataframe tbody tr th {\n",
       "        vertical-align: top;\n",
       "    }\n",
       "\n",
       "    .dataframe thead th {\n",
       "        text-align: right;\n",
       "    }\n",
       "</style>\n",
       "<table border=\"1\" class=\"dataframe\">\n",
       "  <thead>\n",
       "    <tr style=\"text-align: right;\">\n",
       "      <th></th>\n",
       "      <th>시설명</th>\n",
       "      <th>도로명주소</th>\n",
       "      <th>지번주소</th>\n",
       "      <th>위도</th>\n",
       "      <th>경도</th>\n",
       "      <th>저류조 용량</th>\n",
       "      <th>이용용도</th>\n",
       "      <th>데이터기준일자</th>\n",
       "    </tr>\n",
       "  </thead>\n",
       "  <tbody>\n",
       "    <tr>\n",
       "      <th>0</th>\n",
       "      <td>효성해링턴플레이스 2단지</td>\n",
       "      <td>경기도 평택시 소사3로 22</td>\n",
       "      <td>NaN</td>\n",
       "      <td>36.987411</td>\n",
       "      <td>127.129658</td>\n",
       "      <td>1000.0</td>\n",
       "      <td>조경용수</td>\n",
       "      <td>2024-07-30</td>\n",
       "    </tr>\n",
       "    <tr>\n",
       "      <th>1</th>\n",
       "      <td>더샵지제역센트럴파크 3블럭</td>\n",
       "      <td>경기도 평택시 동삭1로22번길 40</td>\n",
       "      <td>NaN</td>\n",
       "      <td>37.016099</td>\n",
       "      <td>127.093232</td>\n",
       "      <td>462.0</td>\n",
       "      <td>조경용수</td>\n",
       "      <td>2024-07-30</td>\n",
       "    </tr>\n",
       "    <tr>\n",
       "      <th>2</th>\n",
       "      <td>평택힐스테이트 2차</td>\n",
       "      <td>경기도 평택시 세교6로 45</td>\n",
       "      <td>경기도 평택시 세교동 597</td>\n",
       "      <td>37.009950</td>\n",
       "      <td>127.086697</td>\n",
       "      <td>518.0</td>\n",
       "      <td>조경용수</td>\n",
       "      <td>2024-07-30</td>\n",
       "    </tr>\n",
       "    <tr>\n",
       "      <th>3</th>\n",
       "      <td>소사벌 효성해링턴코트</td>\n",
       "      <td>경기도 평택시 죽백8길 37</td>\n",
       "      <td>경기도 평택시 죽백동 766</td>\n",
       "      <td>37.006831</td>\n",
       "      <td>127.119152</td>\n",
       "      <td>1300.0</td>\n",
       "      <td>조경용수</td>\n",
       "      <td>2024-07-30</td>\n",
       "    </tr>\n",
       "    <tr>\n",
       "      <th>4</th>\n",
       "      <td>비전지웰 테라스하우스</td>\n",
       "      <td>경기도 평택시 용죽6길 64</td>\n",
       "      <td>경기도 평택시 용이동 661</td>\n",
       "      <td>36.996280</td>\n",
       "      <td>127.127966</td>\n",
       "      <td>743.0</td>\n",
       "      <td>조경용수</td>\n",
       "      <td>2024-07-30</td>\n",
       "    </tr>\n",
       "  </tbody>\n",
       "</table>\n",
       "</div>"
      ],
      "text/plain": [
       "              시설명                도로명주소             지번주소         위도  \\\n",
       "0   효성해링턴플레이스 2단지      경기도 평택시 소사3로 22              NaN  36.987411   \n",
       "1  더샵지제역센트럴파크 3블럭  경기도 평택시 동삭1로22번길 40              NaN  37.016099   \n",
       "2      평택힐스테이트 2차      경기도 평택시 세교6로 45  경기도 평택시 세교동 597  37.009950   \n",
       "3     소사벌 효성해링턴코트      경기도 평택시 죽백8길 37  경기도 평택시 죽백동 766  37.006831   \n",
       "4     비전지웰 테라스하우스      경기도 평택시 용죽6길 64  경기도 평택시 용이동 661  36.996280   \n",
       "\n",
       "           경도  저류조 용량  이용용도     데이터기준일자  \n",
       "0  127.129658  1000.0  조경용수  2024-07-30  \n",
       "1  127.093232   462.0  조경용수  2024-07-30  \n",
       "2  127.086697   518.0  조경용수  2024-07-30  \n",
       "3  127.119152  1300.0  조경용수  2024-07-30  \n",
       "4  127.127966   743.0  조경용수  2024-07-30  "
      ]
     },
     "execution_count": 42,
     "metadata": {},
     "output_type": "execute_result"
    }
   ],
   "source": [
    "## 데이터포털 빗물이용시설현황 데이터 로드\n",
    "df_csv_rain =  pd.read_csv('./data/경기도_평택시_빗물이용시설현황_20240730.csv', encoding='euc-kr')\n",
    "df_csv_rain.head() # head 함수는 상위 5개 출력, tail은 하위 5개 출력 ()안에 숫자쓰면 그 갯수만큼 출력 "
   ]
  },
  {
   "cell_type": "code",
   "execution_count": null,
   "metadata": {},
   "outputs": [],
   "source": []
  }
 ],
 "metadata": {
  "kernelspec": {
   "display_name": "Python 3",
   "language": "python",
   "name": "python3"
  },
  "language_info": {
   "codemirror_mode": {
    "name": "ipython",
    "version": 3
   },
   "file_extension": ".py",
   "mimetype": "text/x-python",
   "name": "python",
   "nbconvert_exporter": "python",
   "pygments_lexer": "ipython3",
   "version": "3.11.5"
  }
 },
 "nbformat": 4,
 "nbformat_minor": 2
}
