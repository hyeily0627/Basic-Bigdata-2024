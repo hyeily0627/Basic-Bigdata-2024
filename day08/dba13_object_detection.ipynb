{
 "cells": [
  {
   "cell_type": "markdown",
   "metadata": {},
   "source": [
    "### 객체탐지\n",
    "\n",
    "#### 개요\n",
    "- 딥러닝의 CNN(외 RCNN 등)와 같은 알고리즘을 통해서 물체를 인식하여 표시하는 기술\n",
    "- 자동차번호판 번호 인식, 화재경보, 교통사고인지, 이상행동파악 등...\n",
    "- CCTV과 같이 접목해서 활용되는 경우가 아주 많음"
   ]
  },
  {
   "cell_type": "markdown",
   "metadata": {},
   "source": [
    "#### 필요 라이브러리\n",
    "- OpenCV - 최초 인텔에서 개발한 오픈소스 실시간 컴퓨터 비전 라이브러리\n",
    "    - C/C++을 목표로 제작. 크로스 플랫폼    \n",
    "    - 파이썬에 OpenCV가 적용되면서 활성화!\n",
    "    - 카메라 인식 산업에서 대부분 사용되고 있음\n",
    "    - C/C++에서 기본 동작코드 2~300줄이면 파이썬에선 10줄이내로 같은 작업을 할 수 있음\n",
    "\n",
    "- YOLO(PyTorch)\n",
    "    - Not You Only Live Once, You Only Look Once! \n",
    "    - 손쉽게 사용할 수 있는 실시간 객체 탐시 시스템\n",
    "    - 2015년에 출시후 현재 2024년 현재 v8.0 \n",
    "    - OpenCV만 가지고 작업하던 걸, YOLO로 넘어가는 추세"
   ]
  },
  {
   "cell_type": "code",
   "execution_count": 24,
   "metadata": {},
   "outputs": [
    {
     "name": "stdout",
     "output_type": "stream",
     "text": [
      "Requirement already satisfied: opencv-python in c:\\dev\\langs\\python311\\lib\\site-packages (4.10.0.84)\n",
      "Requirement already satisfied: numpy>=1.21.2 in c:\\dev\\langs\\python311\\lib\\site-packages (from opencv-python) (1.26.3)\n"
     ]
    }
   ],
   "source": [
    "!pip install opencv-python"
   ]
  },
  {
   "cell_type": "code",
   "execution_count": 25,
   "metadata": {},
   "outputs": [],
   "source": [
    "## Window, Mac 차이가 없음\n",
    "## Raspbarry Pi는 최선버전에서 사용법이 변경되었음.\n",
    "import cv2"
   ]
  },
  {
   "cell_type": "code",
   "execution_count": 26,
   "metadata": {},
   "outputs": [],
   "source": [
    "## 이미지 로드\n",
    "## 사막여우 == Fennec Fox\n",
    "img = cv2.imread('./fennec_fox.png')\n",
    "\n",
    "cv2.imshow('Fox', img)\n",
    "cv2.waitKey(0)\n",
    "cv2.destroyAllWindows()"
   ]
  },
  {
   "cell_type": "code",
   "execution_count": 27,
   "metadata": {},
   "outputs": [],
   "source": [
    "## 현재 웹캠이 동작 안함\n",
    "video_path = './Mumbai_traffic.mp4'\n",
    "\n",
    "cap = cv2.VideoCapture(video_path) # 0~숫자는 카메라번호\n",
    "cap.set(3, 640)\n",
    "cap.set(4, 480)\n",
    "\n",
    "while (cap.isOpened()):  ## True => (cap.isOpened())\n",
    "    ret, img = cap.read() # 실시간으로 화면을 캡쳐 ret(결과정보객체), img(실시간이미지)\n",
    "    if ret == True:\n",
    "        cv2.imshow('youtube mpeg', img) ## 내부적으로 PyQt로 생성되는 GUI창\n",
    "\n",
    "        if cv2.waitKey(1) == ord('q'): # 키보드 q를 클릭하면\n",
    "            break\n",
    "    else:\n",
    "        break\n",
    "\n",
    "cap.release() # 자원 해제\n",
    "cv2.destroyAllWindows()"
   ]
  },
  {
   "cell_type": "markdown",
   "metadata": {},
   "source": [
    "##### 이미지 처리"
   ]
  },
  {
   "cell_type": "code",
   "execution_count": 28,
   "metadata": {},
   "outputs": [],
   "source": [
    "img = cv2.imread('./fennec_fox.png')\n",
    "\n",
    "cv2.imshow('Original', img) ## 일반 이미지\n",
    "# cv2.waitKey(0) \n",
    "gray = cv2.cvtColor(img, cv2.COLOR_BGR2GRAY)\n",
    "height, width = img.shape[0], img.shape[1]\n",
    "## 정수입력 width/2 => float 문제\n",
    "half_img = cv2.resize(gray, (int(width/2), int(height/2)))\n",
    "# cv2.imshow('Gray', gray) ## 흑백 변환\n",
    "cv2.imshow('half', half_img)\n",
    "cv2.waitKey(0) \n",
    "\n",
    "cv2.destroyAllWindows()"
   ]
  },
  {
   "cell_type": "code",
   "execution_count": 29,
   "metadata": {},
   "outputs": [],
   "source": [
    "video_path = './Mumbai_traffic.mp4'\n",
    "\n",
    "cap = cv2.VideoCapture(video_path) # 0~숫자는 카메라번호\n",
    "cap.set(3, 640)\n",
    "cap.set(4, 480)\n",
    "\n",
    "while (cap.isOpened()):   \n",
    "    ret, img = cap.read() # 실시간으로 화면을 캡쳐 ret(결과정보객체) 보통 사용하지 않아서 _로 변경, img(실시간이미지)\n",
    "    if ret == True:\n",
    "        # cv2.imshow('youtube mpeg', img) ## 내부적으로 PyQt로 생성되는 GUI창\n",
    "        height, width = img.shape[0], img.shape[1]\n",
    "        gray = cv2.cvtColor(img, cv2.COLOR_BGR2GRAY)  ## 컬러 -> 흑백으로\n",
    "        half = cv2.resize(gray, (int(width/2), int(height/2))) ## 사이즈를 반으로 축소\n",
    "        cv2.imshow('youtube gray', half)\n",
    "\n",
    "        if cv2.waitKey(1) == ord('q'): # 키보드 q를 클릭하면\n",
    "            break\n",
    "    else:\n",
    "        break\n",
    "\n",
    "cap.release() # 자원 해제\n",
    "cv2.destroyAllWindows()"
   ]
  },
  {
   "cell_type": "markdown",
   "metadata": {},
   "source": [
    "- 포토샵등의 이미지, 프리미어등의 동영상 처리하는 프로그램에서 사용하는 거의 대부분의 기능이 OpenCV에 포함되어 있음"
   ]
  },
  {
   "cell_type": "code",
   "execution_count": 30,
   "metadata": {},
   "outputs": [],
   "source": [
    "video_path = './mbc_news.mp4'\n",
    "\n",
    "faceCascade = cv2.CascadeClassifier('./haarcascade_frontalface_default.xml')\n",
    "cap = cv2.VideoCapture(video_path) # 0~숫자는 카메라번호\n",
    "\n",
    "while (cap.isOpened()):    \n",
    "    ret, img = cap.read() # 실시간으로 화면을 캡쳐 ret(결과정보객체) 보통 사용하지 않아서 _로 변경, img(실시간이미지)\n",
    "    if ret == True:\n",
    "        height, width = img.shape[0], img.shape[1]\n",
    "\n",
    "        half = cv2.resize(img, (int(width/2), int(height/2)))\n",
    "\n",
    "        # 얼굴인식\n",
    "        faces = faceCascade.detectMultiScale(\n",
    "            half,\n",
    "            scaleFactor=2.0,\n",
    "            minNeighbors=5,\n",
    "            minSize=(10,10)\n",
    "        )\n",
    "        ## 찾은 얼굴 위치 표시\n",
    "        for (x,y,w,h) in faces:\n",
    "            cv2.rectangle(half,(x,y),(x+w,y+h),(0,255,255), 2)\n",
    "            roi_color = half[y:y+h, x:x+w]\n",
    "\n",
    "        cv2.imshow('youtube mpeg', half) ## 내부적으로 PyQt로 생성되는 GUI창\n",
    "\n",
    "        if cv2.waitKey(1) == ord('q'): # 키보드 q를 클릭하면\n",
    "            break\n",
    "    \n",
    "    else:\n",
    "        break\n",
    "\n",
    "cap.release() # 자원 해제\n",
    "cv2.destroyAllWindows()"
   ]
  },
  {
   "cell_type": "markdown",
   "metadata": {},
   "source": [
    "### YOLO 따라하기 \n",
    "- You Only Look Once\n",
    "- CNN을 기반으로 한 물체 감지 라이브러리 \n",
    "\n",
    "- https://www.ultralytics.com/ko 참고 \n",
    "- https://github.com/ultralytics/ultralytics"
   ]
  },
  {
   "cell_type": "code",
   "execution_count": 4,
   "metadata": {},
   "outputs": [
    {
     "name": "stdout",
     "output_type": "stream",
     "text": [
      "Requirement already satisfied: pip in c:\\dev\\langs\\python311\\lib\\site-packages (24.2)\n"
     ]
    }
   ],
   "source": [
    "!pip install --upgrade pip\n"
   ]
  },
  {
   "cell_type": "code",
   "execution_count": 5,
   "metadata": {},
   "outputs": [
    {
     "name": "stderr",
     "output_type": "stream",
     "text": [
      "WARNING: Skipping ultralytics as it is not installed.\n"
     ]
    }
   ],
   "source": [
    "!pip uninstall ultralytics -y\n"
   ]
  },
  {
   "cell_type": "code",
   "execution_count": 32,
   "metadata": {},
   "outputs": [
    {
     "name": "stdout",
     "output_type": "stream",
     "text": [
      "Ultralytics YOLOv8.2.76 🚀 Python-3.11.5 torch-2.4.0+cpu CPU (Intel Core(TM) i7-6700 3.40GHz)\n",
      "YOLOv8n summary (fused): 168 layers, 3,151,904 parameters, 0 gradients, 8.7 GFLOPs\n",
      "\n",
      "Found http://www.ultralytics.com/images/bus.jpg locally at bus.jpg\n",
      "image 1/1 c:\\Sources\\Basic-Bigdata-2024\\day08\\bus.jpg: 640x480 11 persons, 7 bicycles, 42 cars, 4 motorcycles, 8 airplanes, 3 trains, 6 trucks, 62 boats, 1 traffic light, 1 fire hydrant, 3 parking meters, 9 benchs, 15 cats, 6 dogs, 11 horses, 3 sheeps, 1 cow, 10 backpacks, 4 umbrellas, 1 handbag, 10 suitcases, 3 frisbees, 1 skis, 1 snowboard, 1 surfboard, 5 knifes, 1 spoon, 2 apples, 5 donuts, 21 couchs, 28 beds, 11 dining tables, 3 mouses, 351.2ms\n",
      "Speed: 6.0ms preprocess, 351.2ms inference, 32.1ms postprocess per image at shape (1, 3, 640, 480)\n",
      "Results saved to \u001b[1mruns\\detect\\predict2\u001b[0m\n",
      "💡 Learn more at https://docs.ultralytics.com/modes/predict\n"
     ]
    }
   ],
   "source": [
    "# 콘솔창에서 테스트 하는 방법. 트레이닝한 이미지 처리 모델 \n",
    "!yolo predict model=yolov8n.pt source='http://www.ultralytics.com/images/bus.jpg'"
   ]
  },
  {
   "cell_type": "code",
   "execution_count": 55,
   "metadata": {},
   "outputs": [],
   "source": [
    "from ultralytics import YOLO"
   ]
  },
  {
   "cell_type": "code",
   "execution_count": 40,
   "metadata": {},
   "outputs": [
    {
     "name": "stdout",
     "output_type": "stream",
     "text": [
      "\n",
      "image 1/1 c:\\Sources\\Basic-Bigdata-2024\\day08\\KakaoTalk_20240812_151755471.jpg: 384x640 12 persons, 1 car, 2 motorcycles, 2 airplanes, 1 truck, 6 boats, 14 stop signs, 2 parking meters, 2 benchs, 5 cats, 1 dog, 3 sheeps, 1 bear, 38 ties, 2 suitcases, 41 frisbees, 1 baseball glove, 2 bottles, 5 knifes, 2 apples, 5 pizzas, 3 donuts, 2 chairs, 10 couchs, 1 dining table, 1 laptop, 1 mouse, 2 remotes, 1 microwave, 321.0ms\n",
      "Speed: 5.0ms preprocess, 321.0ms inference, 1.0ms postprocess per image at shape (1, 3, 384, 640)\n"
     ]
    }
   ],
   "source": [
    "model = YOLO(model='./yolov8n.pt')\n",
    "\n",
    "result = model('./KakaoTalk_20240812_151755471.jpg')\n",
    "plots = result[0].plot()\n",
    "height,width = plots.shape[0], plots.shape[1]\n",
    "last = cv2.resize(plots,(800,450))\n",
    "cv2.imshow('yolo',last)\n",
    "cv2.waitKey(0)\n",
    "cv2.destroyAllWindows()"
   ]
  },
  {
   "cell_type": "markdown",
   "metadata": {},
   "source": [
    "안됩니다!ㅎㅎ "
   ]
  },
  {
   "cell_type": "code",
   "execution_count": null,
   "metadata": {},
   "outputs": [],
   "source": [
    "## 실시간 기능, 동영상도 가능\n",
    "classNames = [\n",
    "    [\"person\", \"bicycle\", \"car\", \"motorbike\", \"airplane\", \"bus\", \"train\", \"truck\", \"boat\",\n",
    "              \"traffic light\", \"fire hydrant\", \"stop sign\", \"parking meter\", \"bench\", \"bird\", \"cat\",\n",
    "              \"dog\", \"horse\", \"sheep\", \"cow\", \"elephant\", \"bear\", \"zebra\", \"giraffe\", \"backpack\", \"umbrella\",\n",
    "              \"handbag\", \"tie\", \"suitcase\", \"frisbee\", \"skis\", \"snowboard\", \"sports ball\", \"kite\", \"baseball bat\",\n",
    "              \"baseball glove\", \"skateboard\", \"surfboard\", \"tennis racket\", \"bottle\", \"wine glass\", \"cup\",\n",
    "              \"fork\", \"knife\", \"spoon\", \"bowl\", \"banana\", \"apple\", \"sandwich\", \"orange\", \"broccoli\",\n",
    "              \"carrot\", \"hot dog\", \"pizza\", \"donut\", \"cake\", \"chair\", \"sofa\", \"pottedplant\", \"bed\",\n",
    "              \"diningtable\", \"toilet\", \"tvmonitor\", \"laptop\", \"mouse\", \"remote\", \"keyboard\", \"cell phone\",\n",
    "              \"microwave\", \"oven\", \"toaster\", \"sink\", \"refrigerator\", \"book\", \"clock\", \"vase\", \"scissors\",\n",
    "              \"teddy bear\", \"hair drier\", \"toothbrush\"\n",
    "              ]\n",
    "]"
   ]
  },
  {
   "cell_type": "code",
   "execution_count": 47,
   "metadata": {},
   "outputs": [],
   "source": [
    "import math"
   ]
  },
  {
   "cell_type": "code",
   "execution_count": 57,
   "metadata": {},
   "outputs": [
    {
     "name": "stdout",
     "output_type": "stream",
     "text": [
      "\n"
     ]
    },
    {
     "name": "stdout",
     "output_type": "stream",
     "text": [
      "0: 384x640 11 persons, 33 bicycles, 43 cars, 6 motorcycles, 1 train, 6 trucks, 3 boats, 1 traffic light, 30 fire hydrants, 12 stop signs, 16 parking meters, 13 benchs, 1 cat, 24 dogs, 18 horses, 3 sheeps, 6 cows, 8 elephants, 4 backpacks, 1 umbrella, 6 handbags, 1 suitcase, 10 frisbees, 4 sports balls, 17 surfboards, 1 bottle, 1 knife, 1 apple, 2 donuts, 5 couchs, 8 beds, 1 dining table, 1 cell phone, 2 clocks, 274.0ms\n",
      "Speed: 2.0ms preprocess, 274.0ms inference, 22.0ms postprocess per image at shape (1, 3, 384, 640)\n",
      "\n",
      "0: 384x640 19 persons, 5 bicycles, 38 cars, 14 motorcycles, 1 train, 4 boats, 3 traffic lights, 17 fire hydrants, 12 stop signs, 3 parking meters, 8 benchs, 1 bird, 42 cats, 3 dogs, 4 horses, 2 sheeps, 24 bears, 2 giraffes, 28 umbrellas, 16 handbags, 1 tie, 5 frisbees, 5 knifes, 4 bowls, 1 apple, 5 sandwichs, 1 donut, 1 potted plant, 20 beds, 3 dining tables, 1 toilet, 1 laptop, 1 mouse, 1 cell phone, 3 sinks, 1 teddy bear, 277.0ms\n",
      "Speed: 2.0ms preprocess, 277.0ms inference, 15.0ms postprocess per image at shape (1, 3, 384, 640)\n",
      "\n",
      "0: 384x640 5 persons, 3 cars, 20 motorcycles, 1 bus, 5 trains, 2 trucks, 38 boats, 9 fire hydrants, 13 stop signs, 51 parking meters, 1 bench, 2 cats, 16 dogs, 3 horses, 1 elephant, 4 bears, 1 zebra, 8 umbrellas, 3 suitcases, 2 sports balls, 7 bottles, 1 wine glass, 5 spoons, 1 bowl, 1 banana, 3 apples, 2 oranges, 2 cakes, 11 couchs, 12 beds, 61 dining tables, 2 ovens, 3 sinks, 1 hair drier, 249.0ms\n",
      "Speed: 2.0ms preprocess, 249.0ms inference, 15.0ms postprocess per image at shape (1, 3, 384, 640)\n",
      "\n",
      "0: 384x640 7 persons, 10 bicycles, 4 cars, 17 motorcycles, 5 airplanes, 7 buss, 5 trains, 72 boats, 3 traffic lights, 8 fire hydrants, 5 stop signs, 5 parking meters, 1 bird, 19 dogs, 4 horses, 4 umbrellas, 9 handbags, 2 suitcases, 2 sports balls, 2 baseball bats, 9 surfboards, 4 bottles, 1 fork, 58 spoons, 1 banana, 2 oranges, 1 cake, 5 couchs, 13 beds, 14 dining tables, 1 oven, 243.0ms\n",
      "Speed: 2.0ms preprocess, 243.0ms inference, 24.0ms postprocess per image at shape (1, 3, 384, 640)\n",
      "\n",
      "0: 384x640 2 persons, 2 cars, 7 motorcycles, 2 airplanes, 7 trains, 59 boats, 4 fire hydrants, 5 stop signs, 3 parking meters, 19 benchs, 2 cats, 11 dogs, 7 horses, 19 bears, 73 umbrellas, 4 handbags, 11 suitcases, 3 frisbees, 12 knifes, 9 spoons, 1 orange, 2 cakes, 1 couch, 5 beds, 27 dining tables, 2 remotes, 1 keyboard, 256.0ms\n",
      "Speed: 2.0ms preprocess, 256.0ms inference, 18.0ms postprocess per image at shape (1, 3, 384, 640)\n",
      "\n",
      "0: 384x640 23 persons, 10 bicycles, 25 cars, 4 motorcycles, 17 airplanes, 4 trucks, 46 boats, 3 fire hydrants, 4 stop signs, 7 parking meters, 17 benchs, 5 cats, 17 dogs, 7 horses, 1 cow, 2 bears, 3 zebras, 1 backpack, 3 handbags, 1 suitcase, 9 frisbees, 1 snowboard, 1 sports ball, 2 skateboards, 1 knife, 8 couchs, 38 beds, 7 dining tables, 3 mouses, 12 remotes, 18 cell phones, 272.0ms\n",
      "Speed: 2.0ms preprocess, 272.0ms inference, 8.0ms postprocess per image at shape (1, 3, 384, 640)\n",
      "\n",
      "0: 384x640 1 person, 29 bicycles, 2 cars, 22 motorcycles, 8 trains, 106 boats, 1 traffic light, 5 fire hydrants, 9 stop signs, 15 parking meters, 20 benchs, 3 dogs, 1 horse, 12 backpacks, 3 umbrellas, 26 handbags, 6 suitcases, 2 frisbees, 1 skis, 3 snowboards, 2 sports balls, 2 surfboards, 5 knifes, 8 spoons, 1 banana, 1 cake, 3 dining tables, 3 remotes, 254.0ms\n",
      "Speed: 2.0ms preprocess, 254.0ms inference, 15.0ms postprocess per image at shape (1, 3, 384, 640)\n",
      "\n",
      "0: 384x640 43 persons, 26 bicycles, 49 cars, 9 motorcycles, 7 airplanes, 2 buss, 3 trains, 2 trucks, 8 boats, 5 traffic lights, 19 fire hydrants, 4 stop signs, 22 parking meters, 17 benchs, 17 dogs, 5 horses, 4 sheeps, 3 cows, 1 backpack, 2 handbags, 4 suitcases, 5 frisbees, 1 skis, 1 snowboard, 7 sports balls, 1 baseball bat, 1 bottle, 4 spoons, 1 bowl, 1 hot dog, 6 couchs, 4 beds, 4 dining tables, 2 toilets, 2 mouses, 1 keyboard, 7 cell phones, 246.0ms\n",
      "Speed: 2.0ms preprocess, 246.0ms inference, 12.0ms postprocess per image at shape (1, 3, 384, 640)\n",
      "\n",
      "0: 384x640 5 persons, 38 bicycles, 58 cars, 4 motorcycles, 4 airplanes, 3 buss, 2 trains, 3 trucks, 7 boats, 6 traffic lights, 15 fire hydrants, 6 stop signs, 26 parking meters, 21 benchs, 9 cats, 9 dogs, 6 horses, 4 elephants, 9 backpacks, 2 umbrellas, 25 handbags, 8 suitcases, 1 frisbee, 3 skiss, 8 sports balls, 1 baseball bat, 5 bottles, 1 couch, 2 beds, 1 mouse, 3 remotes, 3 cell phones, 2 clocks, 249.0ms\n",
      "Speed: 2.0ms preprocess, 249.0ms inference, 20.0ms postprocess per image at shape (1, 3, 384, 640)\n",
      "\n",
      "0: 384x640 4 persons, 5 bicycles, 28 cars, 29 motorcycles, 7 airplanes, 1 bus, 4 trains, 96 boats, 4 fire hydrants, 1 stop sign, 2 parking meters, 6 benchs, 1 bird, 2 cats, 7 dogs, 1 horse, 1 cow, 1 bear, 12 backpacks, 1 umbrella, 10 handbags, 13 suitcases, 2 frisbees, 5 skiss, 5 snowboards, 1 baseball bat, 3 baseball gloves, 1 surfboard, 3 knifes, 8 spoons, 1 banana, 1 apple, 2 donuts, 4 couchs, 5 beds, 13 dining tables, 2 laptops, 1 mouse, 2 remotes, 2 cell phones, 3 sinks, 248.0ms\n",
      "Speed: 3.0ms preprocess, 248.0ms inference, 13.0ms postprocess per image at shape (1, 3, 384, 640)\n",
      "\n",
      "0: 384x640 33 bicycles, 29 cars, 6 motorcycles, 5 trains, 1 truck, 9 boats, 2 traffic lights, 27 fire hydrants, 15 stop signs, 4 parking meters, 5 benchs, 4 cats, 5 dogs, 1 sheep, 3 bears, 5 backpacks, 14 handbags, 14 frisbees, 8 skiss, 2 snowboards, 1 bottle, 1 cup, 4 knifes, 8 bowls, 5 couchs, 6 potted plants, 11 beds, 36 toilets, 30 remotes, 1 cell phone, 2 sinks, 3 clocks, 245.0ms\n",
      "Speed: 2.0ms preprocess, 245.0ms inference, 12.0ms postprocess per image at shape (1, 3, 384, 640)\n",
      "\n",
      "0: 384x640 21 persons, 12 cars, 17 motorcycles, 21 airplanes, 3 buss, 13 trains, 27 boats, 4 traffic lights, 27 fire hydrants, 15 stop signs, 29 parking meters, 3 birds, 4 cats, 3 dogs, 15 horses, 17 bears, 1 giraffe, 8 umbrellas, 7 handbags, 5 frisbees, 6 baseball bats, 1 baseball glove, 1 knife, 12 spoons, 1 banana, 3 apples, 1 pizza, 1 bed, 7 dining tables, 1 remote, 2 keyboards, 6 cell phones, 2 sinks, 2 teddy bears, 2 hair driers, 243.0ms\n",
      "Speed: 2.0ms preprocess, 243.0ms inference, 24.0ms postprocess per image at shape (1, 3, 384, 640)\n",
      "\n",
      "0: 384x640 5 bicycles, 1 car, 10 motorcycles, 2 trains, 1 truck, 31 boats, 2 traffic lights, 10 fire hydrants, 77 stop signs, 1 parking meter, 6 benchs, 4 bears, 26 backpacks, 12 umbrellas, 94 handbags, 8 frisbees, 1 sports ball, 2 cups, 3 knifes, 1 orange, 1 dining table, 1 cell phone, 1 toaster, 251.0ms\n",
      "Speed: 1.0ms preprocess, 251.0ms inference, 17.0ms postprocess per image at shape (1, 3, 384, 640)\n",
      "\n",
      "0: 384x640 10 persons, 21 cars, 17 motorcycles, 2 airplanes, 1 bus, 8 trains, 142 boats, 1 traffic light, 15 fire hydrants, 2 stop signs, 10 parking meters, 2 birds, 3 dogs, 1 horse, 4 suitcases, 4 frisbees, 1 snowboard, 1 sports ball, 2 bottles, 21 spoons, 1 couch, 10 beds, 15 dining tables, 1 remote, 4 cell phones, 1 teddy bear, 249.0ms\n",
      "Speed: 1.0ms preprocess, 249.0ms inference, 10.0ms postprocess per image at shape (1, 3, 384, 640)\n",
      "\n",
      "0: 384x640 1 person, 3 cars, 4 motorcycles, 12 airplanes, 1 bus, 10 trains, 179 boats, 1 traffic light, 7 fire hydrants, 1 stop sign, 1 suitcase, 20 skiss, 2 snowboards, 1 baseball bat, 3 bottles, 49 spoons, 2 cakes, 2 dining tables, 1 toothbrush, 249.0ms\n",
      "Speed: 1.0ms preprocess, 249.0ms inference, 7.0ms postprocess per image at shape (1, 3, 384, 640)\n",
      "\n",
      "0: 384x640 12 bicycles, 47 cars, 3 airplanes, 10 trains, 11 trucks, 16 boats, 1 traffic light, 4 fire hydrants, 2 stop signs, 18 parking meters, 54 benchs, 3 cats, 17 dogs, 11 horses, 1 sheep, 1 cow, 8 elephants, 1 bear, 7 backpacks, 2 umbrellas, 16 handbags, 12 suitcases, 5 frisbees, 1 skis, 7 couchs, 17 beds, 2 dining tables, 1 toilet, 1 mouse, 6 remotes, 1 cell phone, 2 clocks, 242.0ms\n",
      "Speed: 2.0ms preprocess, 242.0ms inference, 17.0ms postprocess per image at shape (1, 3, 384, 640)\n",
      "\n",
      "0: 384x640 6 persons, 9 bicycles, 13 cars, 2 motorcycles, 1 airplane, 1 train, 1 truck, 1 boat, 8 fire hydrants, 7 parking meters, 45 benchs, 4 birds, 12 cats, 3 dogs, 4 horses, 2 sheeps, 9 elephants, 3 bears, 19 backpacks, 5 umbrellas, 53 handbags, 1 tie, 3 suitcases, 8 frisbees, 1 snowboard, 11 sports balls, 2 skateboards, 11 bottles, 2 knifes, 1 bowl, 1 banana, 3 apples, 2 sandwichs, 1 cake, 3 couchs, 18 beds, 2 dining tables, 1 toilet, 2 laptops, 3 mouses, 4 remotes, 5 cell phones, 1 toaster, 1 sink, 4 books, 1 clock, 242.0ms\n",
      "Speed: 2.0ms preprocess, 242.0ms inference, 13.0ms postprocess per image at shape (1, 3, 384, 640)\n",
      "\n",
      "0: 384x640 14 persons, 11 bicycles, 67 cars, 9 motorcycles, 5 airplanes, 1 bus, 1 train, 1 truck, 25 boats, 4 fire hydrants, 6 stop signs, 11 parking meters, 5 benchs, 4 cats, 14 dogs, 17 horses, 10 sheeps, 1 cow, 4 elephants, 1 bear, 3 backpacks, 7 handbags, 6 suitcases, 6 frisbees, 3 sports balls, 1 surfboard, 1 bottle, 1 apple, 7 donuts, 10 couchs, 30 beds, 4 dining tables, 5 mouses, 1 remote, 2 sinks, 1 book, 1 clock, 257.0ms\n",
      "Speed: 3.0ms preprocess, 257.0ms inference, 22.0ms postprocess per image at shape (1, 3, 384, 640)\n",
      "\n",
      "0: 384x640 21 persons, 2 bicycles, 12 cars, 7 motorcycles, 6 trains, 138 boats, 2 fire hydrants, 7 stop signs, 3 parking meters, 1 bird, 2 cats, 4 dogs, 3 horses, 1 cow, 1 elephant, 16 bears, 2 backpacks, 10 umbrellas, 2 handbags, 2 suitcases, 16 frisbees, 1 snowboard, 2 sports balls, 1 surfboard, 3 bottles, 3 spoons, 4 bowls, 1 banana, 3 apples, 6 beds, 9 dining tables, 1 remote, 2 keyboards, 3 cell phones, 3 sinks, 264.0ms\n",
      "Speed: 2.0ms preprocess, 264.0ms inference, 7.0ms postprocess per image at shape (1, 3, 384, 640)\n",
      "\n",
      "0: 384x640 4 persons, 2 bicycles, 5 cars, 5 motorcycles, 39 boats, 1 fire hydrant, 2 stop signs, 1 parking meter, 17 benchs, 8 cats, 2 dogs, 1 horse, 6 sheeps, 4 cows, 1 elephant, 17 bears, 4 backpacks, 13 umbrellas, 58 handbags, 23 ties, 2 suitcases, 5 frisbees, 3 sports balls, 3 bottles, 2 cups, 11 knifes, 1 spoon, 7 bowls, 2 bananas, 1 apple, 10 sandwichs, 1 orange, 2 pizzas, 1 donut, 3 potted plants, 4 beds, 9 dining tables, 1 laptop, 6 mouses, 2 remotes, 5 cell phones, 1 oven, 1 toaster, 1 sink, 1 book, 1 vase, 1 toothbrush, 257.0ms\n",
      "Speed: 3.0ms preprocess, 257.0ms inference, 19.0ms postprocess per image at shape (1, 3, 384, 640)\n",
      "\n",
      "0: 384x640 4 bicycles, 1 car, 29 motorcycles, 1 airplane, 1 bus, 34 trains, 59 boats, 1 traffic light, 14 fire hydrants, 23 stop signs, 11 parking meters, 30 benchs, 2 dogs, 3 backpacks, 4 umbrellas, 11 handbags, 6 suitcases, 35 frisbees, 1 skis, 2 snowboards, 1 surfboard, 5 bottles, 2 pizzas, 2 dining tables, 1 tv, 1 remote, 7 keyboards, 1 cell phone, 6 ovens, 1 toaster, 1 sink, 257.0ms\n",
      "Speed: 3.0ms preprocess, 257.0ms inference, 10.0ms postprocess per image at shape (1, 3, 384, 640)\n",
      "\n",
      "0: 384x640 8 cars, 4 boats, 2 traffic lights, 17 fire hydrants, 11 stop signs, 22 parking meters, 3 benchs, 4 cats, 4 dogs, 4 backpacks, 2 umbrellas, 48 handbags, 3 ties, 21 frisbees, 4 sports balls, 3 baseball bats, 1 baseball glove, 12 bottles, 4 cups, 4 knifes, 21 spoons, 6 bowls, 1 apple, 1 sandwich, 2 donuts, 3 cakes, 1 couch, 1 potted plant, 2 beds, 3 dining tables, 1 toilet, 5 laptops, 1 mouse, 23 remotes, 3 keyboards, 20 cell phones, 1 microwave, 2 toasters, 11 sinks, 1 refrigerator, 1 vase, 6 hair driers, 3 toothbrushs, 251.0ms\n",
      "Speed: 2.0ms preprocess, 251.0ms inference, 11.0ms postprocess per image at shape (1, 3, 384, 640)\n",
      "\n",
      "0: 384x640 4 persons, 7 cars, 16 motorcycles, 1 airplane, 2 buss, 10 trains, 163 boats, 2 fire hydrants, 7 stop signs, 5 parking meters, 1 bench, 4 dogs, 1 backpack, 1 umbrella, 9 handbags, 6 frisbees, 2 skiss, 1 baseball bat, 1 bottle, 1 cup, 6 knifes, 23 spoons, 1 banana, 1 orange, 1 broccoli, 4 cakes, 17 dining tables, 2 remotes, 1 microwave, 241.0ms\n",
      "Speed: 2.0ms preprocess, 241.0ms inference, 11.0ms postprocess per image at shape (1, 3, 384, 640)\n",
      "\n",
      "0: 384x640 7 cars, 49 motorcycles, 2 airplanes, 1 bus, 19 trains, 1 truck, 45 boats, 16 fire hydrants, 4 parking meters, 32 benchs, 5 dogs, 7 horses, 2 bears, 5 backpacks, 19 umbrellas, 13 handbags, 19 suitcases, 1 knife, 2 spoons, 2 cakes, 7 couchs, 9 beds, 20 dining tables, 1 toilet, 1 remote, 8 ovens, 2 sinks, 1 teddy bear, 242.0ms\n",
      "Speed: 2.0ms preprocess, 242.0ms inference, 9.0ms postprocess per image at shape (1, 3, 384, 640)\n",
      "\n",
      "0: 384x640 3 persons, 18 bicycles, 6 cars, 9 motorcycles, 2 airplanes, 42 trains, 6 trucks, 40 boats, 2 traffic lights, 4 fire hydrants, 12 stop signs, 20 parking meters, 24 benchs, 1 cat, 13 dogs, 7 horses, 2 bears, 9 backpacks, 9 umbrellas, 13 handbags, 3 suitcases, 3 frisbees, 1 sports ball, 1 baseball glove, 4 knifes, 5 spoons, 2 apples, 1 cake, 3 couchs, 5 beds, 21 dining tables, 3 remotes, 3 keyboards, 1 cell phone, 1 oven, 1 teddy bear, 239.0ms\n",
      "Speed: 1.0ms preprocess, 239.0ms inference, 16.0ms postprocess per image at shape (1, 3, 384, 640)\n",
      "\n",
      "0: 384x640 1 person, 3 bicycles, 14 cars, 3 motorcycles, 4 airplanes, 1 bus, 12 trains, 1 truck, 8 boats, 1 traffic light, 5 fire hydrants, 6 stop signs, 14 parking meters, 83 benchs, 2 birds, 1 cat, 9 dogs, 12 horses, 3 elephants, 2 bears, 11 backpacks, 3 umbrellas, 5 handbags, 1 tie, 5 suitcases, 1 frisbee, 1 sports ball, 1 bottle, 1 cup, 1 knife, 19 couchs, 41 beds, 6 dining tables, 1 mouse, 9 remotes, 2 keyboards, 4 cell phones, 3 sinks, 242.0ms\n",
      "Speed: 1.0ms preprocess, 242.0ms inference, 17.0ms postprocess per image at shape (1, 3, 384, 640)\n",
      "\n",
      "0: 384x640 10 persons, 9 bicycles, 51 cars, 14 motorcycles, 57 airplanes, 5 trains, 3 trucks, 16 boats, 4 fire hydrants, 2 parking meters, 38 benchs, 1 bird, 2 cats, 9 dogs, 1 horse, 2 sheeps, 2 cows, 1 zebra, 3 suitcases, 6 skiss, 1 snowboard, 2 surfboards, 1 bottle, 2 spoons, 14 couchs, 24 beds, 8 dining tables, 3 remotes, 7 cell phones, 1 sink, 1 book, 284.0ms\n",
      "Speed: 3.0ms preprocess, 284.0ms inference, 16.0ms postprocess per image at shape (1, 3, 384, 640)\n",
      "\n",
      "0: 384x640 9 persons, 46 bicycles, 70 cars, 3 trucks, 5 boats, 1 traffic light, 2 fire hydrants, 9 stop signs, 10 parking meters, 1 bench, 8 dogs, 12 horses, 4 sheeps, 4 cows, 8 elephants, 1 bear, 4 backpacks, 15 suitcases, 5 frisbees, 2 snowboards, 2 sports balls, 6 surfboards, 1 bottle, 2 forks, 29 donuts, 16 couchs, 19 beds, 4 mouses, 1 remote, 1 toaster, 305.0ms\n",
      "Speed: 3.0ms preprocess, 305.0ms inference, 22.0ms postprocess per image at shape (1, 3, 384, 640)\n",
      "\n",
      "0: 384x640 12 persons, 3 bicycles, 59 cars, 35 airplanes, 8 buss, 2 trains, 14 trucks, 5 boats, 1 traffic light, 6 fire hydrants, 5 stop signs, 32 parking meters, 5 dogs, 7 horses, 7 sheeps, 5 cows, 1 elephant, 4 bears, 2 umbrellas, 13 handbags, 1 tie, 3 suitcases, 2 frisbees, 1 snowboard, 11 sports balls, 5 baseball gloves, 1 surfboard, 6 bottles, 2 bananas, 1 apple, 11 sandwichs, 1 broccoli, 1 couch, 1 bed, 2 dining tables, 10 mouses, 2 keyboards, 8 cell phones, 5 clocks, 287.0ms\n",
      "Speed: 2.0ms preprocess, 287.0ms inference, 22.0ms postprocess per image at shape (1, 3, 384, 640)\n",
      "\n",
      "0: 384x640 3 bicycles, 4 trains, 1 traffic light, 8 fire hydrants, 9 stop signs, 3 birds, 42 cats, 29 dogs, 6 bears, 1 backpack, 40 handbags, 8 ties, 1 suitcase, 2 sports balls, 5 bottles, 8 wine glasss, 4 cups, 3 forks, 32 knifes, 6 spoons, 1 bowl, 1 sandwich, 30 donuts, 1 cake, 2 beds, 5 toilets, 2 laptops, 2 mouses, 25 remotes, 1 toaster, 4 books, 3 clocks, 2 vases, 6 teddy bears, 381.0ms\n",
      "Speed: 2.0ms preprocess, 381.0ms inference, 18.0ms postprocess per image at shape (1, 3, 384, 640)\n",
      "\n",
      "0: 384x640 27 persons, 7 bicycles, 6 cars, 6 motorcycles, 22 boats, 2 traffic lights, 4 fire hydrants, 24 stop signs, 22 parking meters, 6 dogs, 5 horses, 1 sheep, 4 cows, 5 bears, 10 backpacks, 3 umbrellas, 35 handbags, 15 ties, 3 suitcases, 12 frisbees, 3 snowboards, 5 sports balls, 1 baseball bat, 9 bottles, 1 fork, 19 knifes, 13 spoons, 1 orange, 1 donut, 1 cake, 1 couch, 5 beds, 13 dining tables, 4 remotes, 1 keyboard, 3 cell phones, 283.0ms\n",
      "Speed: 1.0ms preprocess, 283.0ms inference, 15.0ms postprocess per image at shape (1, 3, 384, 640)\n",
      "\n",
      "0: 384x640 5 persons, 20 bicycles, 6 cars, 4 motorcycles, 9 buss, 7 trains, 15 boats, 1 fire hydrant, 11 stop signs, 11 parking meters, 2 benchs, 6 cats, 4 dogs, 16 horses, 9 bears, 17 backpacks, 8 umbrellas, 43 handbags, 3 ties, 1 suitcase, 9 frisbees, 1 skis, 4 snowboards, 1 sports ball, 1 kite, 4 baseball bats, 6 baseball gloves, 1 bottle, 1 fork, 3 knifes, 14 spoons, 1 banana, 6 apples, 1 sandwich, 3 oranges, 3 carrots, 1 hot dog, 1 donut, 3 cakes, 4 couchs, 1 bed, 9 remotes, 4 keyboards, 7 cell phones, 4 ovens, 2 toasters, 2 scissorss, 1 teddy bear, 4 toothbrushs, 261.0ms\n",
      "Speed: 1.0ms preprocess, 261.0ms inference, 17.0ms postprocess per image at shape (1, 3, 384, 640)\n",
      "\n",
      "0: 384x640 8 persons, 1 bicycle, 21 cars, 3 airplanes, 1 truck, 29 boats, 5 fire hydrants, 1 stop sign, 1 parking meter, 43 benchs, 36 cats, 11 dogs, 2 elephants, 9 backpacks, 1 umbrella, 23 handbags, 3 ties, 19 suitcases, 1 frisbee, 1 snowboard, 1 sports ball, 2 surfboards, 1 bottle, 6 knifes, 1 spoon, 4 bowls, 1 apple, 3 donuts, 1 cake, 8 couchs, 34 beds, 2 dining tables, 4 laptops, 7 mouses, 3 remotes, 3 books, 255.0ms\n",
      "Speed: 2.0ms preprocess, 255.0ms inference, 14.0ms postprocess per image at shape (1, 3, 384, 640)\n"
     ]
    }
   ],
   "source": [
    "video_path = './Mumbai_traffic.mp4'\n",
    "\n",
    "cap = cv2.VideoCapture(video_path) # 숫자는 cctv, 웹캠 등 실시간 영상 \n",
    "\n",
    "while (cap.isOpened()):   \n",
    "    ret, img = cap.read() \n",
    "    if ret == True:\n",
    "        height, width = img.shape[0], img.shape[1]\n",
    "        half = cv2.resize(img, (int(width/2),int(height/2)))\n",
    "\n",
    "        #YOLO로 문제검출 시작\n",
    "        result = model(half, stream=True)\n",
    "\n",
    "        for result in result:\n",
    "            boxes = result.boxes \n",
    "\n",
    "            for box in boxes:\n",
    "                x1, y1, x2, y2 = box.xyxy[0]\n",
    "                x1, y1, x2, y2 = int(x1), int(y1), int(x2), int(y2)\n",
    "\n",
    "                cv2.rectangle(half, (x1,y1), (x2,y2), (0, 255, 255),2)\n",
    "\n",
    "\n",
    "        cv2.imshow('YOLOv8', half)\n",
    "\n",
    "        if cv2.waitKey(1) == ord('q'): \n",
    "            break\n",
    "    else:\n",
    "        break\n",
    "\n",
    "cap.release()\n",
    "cv2.destroyAllWindows()"
   ]
  },
  {
   "cell_type": "code",
   "execution_count": null,
   "metadata": {},
   "outputs": [],
   "source": []
  }
 ],
 "metadata": {
  "kernelspec": {
   "display_name": "gpu_env",
   "language": "python",
   "name": "python3"
  },
  "language_info": {
   "codemirror_mode": {
    "name": "ipython",
    "version": 3
   },
   "file_extension": ".py",
   "mimetype": "text/x-python",
   "name": "python",
   "nbconvert_exporter": "python",
   "pygments_lexer": "ipython3",
   "version": "3.11.5"
  }
 },
 "nbformat": 4,
 "nbformat_minor": 2
}
